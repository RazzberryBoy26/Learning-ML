{
 "cells": [
  {
   "cell_type": "code",
   "execution_count": 3,
   "id": "37ebd612-1602-43de-b0f1-7a9b0eab3580",
   "metadata": {},
   "outputs": [
    {
     "name": "stdout",
     "output_type": "stream",
     "text": [
      "Index(['EXECUTIONS', 'INCOME', 'PERPOVERTY', 'PERBLACK', 'VC100k96', 'SOUTH',\n",
      "       'DEGREE'],\n",
      "      dtype='object')\n"
     ]
    },
    {
     "data": {
      "text/html": [
       "<div>\n",
       "<style scoped>\n",
       "    .dataframe tbody tr th:only-of-type {\n",
       "        vertical-align: middle;\n",
       "    }\n",
       "\n",
       "    .dataframe tbody tr th {\n",
       "        vertical-align: top;\n",
       "    }\n",
       "\n",
       "    .dataframe thead th {\n",
       "        text-align: right;\n",
       "    }\n",
       "</style>\n",
       "<table border=\"1\" class=\"dataframe\">\n",
       "  <thead>\n",
       "    <tr style=\"text-align: right;\">\n",
       "      <th></th>\n",
       "      <th>EXECUTIONS</th>\n",
       "      <th>INCOME</th>\n",
       "      <th>PERPOVERTY</th>\n",
       "      <th>PERBLACK</th>\n",
       "      <th>VC100k96</th>\n",
       "      <th>SOUTH</th>\n",
       "      <th>DEGREE</th>\n",
       "    </tr>\n",
       "  </thead>\n",
       "  <tbody>\n",
       "    <tr>\n",
       "      <th>0</th>\n",
       "      <td>37.0</td>\n",
       "      <td>34453.0</td>\n",
       "      <td>16.7</td>\n",
       "      <td>12.2</td>\n",
       "      <td>644.0</td>\n",
       "      <td>1.0</td>\n",
       "      <td>0.16</td>\n",
       "    </tr>\n",
       "    <tr>\n",
       "      <th>1</th>\n",
       "      <td>9.0</td>\n",
       "      <td>41534.0</td>\n",
       "      <td>12.5</td>\n",
       "      <td>20.0</td>\n",
       "      <td>351.0</td>\n",
       "      <td>1.0</td>\n",
       "      <td>0.27</td>\n",
       "    </tr>\n",
       "    <tr>\n",
       "      <th>2</th>\n",
       "      <td>6.0</td>\n",
       "      <td>35802.0</td>\n",
       "      <td>10.6</td>\n",
       "      <td>11.2</td>\n",
       "      <td>591.0</td>\n",
       "      <td>0.0</td>\n",
       "      <td>0.21</td>\n",
       "    </tr>\n",
       "    <tr>\n",
       "      <th>3</th>\n",
       "      <td>4.0</td>\n",
       "      <td>26954.0</td>\n",
       "      <td>18.4</td>\n",
       "      <td>16.1</td>\n",
       "      <td>524.0</td>\n",
       "      <td>1.0</td>\n",
       "      <td>0.16</td>\n",
       "    </tr>\n",
       "    <tr>\n",
       "      <th>4</th>\n",
       "      <td>3.0</td>\n",
       "      <td>31468.0</td>\n",
       "      <td>14.8</td>\n",
       "      <td>25.9</td>\n",
       "      <td>565.0</td>\n",
       "      <td>1.0</td>\n",
       "      <td>0.19</td>\n",
       "    </tr>\n",
       "  </tbody>\n",
       "</table>\n",
       "</div>"
      ],
      "text/plain": [
       "   EXECUTIONS   INCOME  PERPOVERTY  PERBLACK  VC100k96  SOUTH  DEGREE\n",
       "0        37.0  34453.0        16.7      12.2     644.0    1.0    0.16\n",
       "1         9.0  41534.0        12.5      20.0     351.0    1.0    0.27\n",
       "2         6.0  35802.0        10.6      11.2     591.0    0.0    0.21\n",
       "3         4.0  26954.0        18.4      16.1     524.0    1.0    0.16\n",
       "4         3.0  31468.0        14.8      25.9     565.0    1.0    0.19"
      ]
     },
     "execution_count": 3,
     "metadata": {},
     "output_type": "execute_result"
    }
   ],
   "source": [
    "#A small implementation with a small dataset from statsmodels.api. This implementation demonstrates how a Poisson type exponential family is used for non-negative valued target labels.\n",
    "#Using the basic concept of GLM's, we are able to produce a canonical link between the linear predictor and the natural parameter.\n",
    "#This dataset is based on number of executions based on numerical features of income, poverty, etc. and some binary features like the location being North or South, etc.\n",
    "\n",
    "import pandas as pd\n",
    "import statsmodels.api as sm\n",
    "import matplotlib.pyplot as plt\n",
    "import numpy as np\n",
    "from sklearn.preprocessing import StandardScaler\n",
    "#Importing all the basic libraries and our dataset.\n",
    "data = sm.datasets.cpunish.load_pandas().data\n",
    "#Fetching the dataset in tabular form.\n",
    "print(data.columns)\n",
    "data.head()\n",
    "#Fetching basic details about the dataset."
   ]
  },
  {
   "cell_type": "code",
   "execution_count": 4,
   "id": "9d44f6cb-9e89-47ad-a22d-10c050351888",
   "metadata": {},
   "outputs": [
    {
     "name": "stdout",
     "output_type": "stream",
     "text": [
      "(17, 6)\n",
      "(17, 1)\n"
     ]
    }
   ],
   "source": [
    "X_raw = data[['INCOME', 'PERPOVERTY', 'PERBLACK', 'VC100k96', 'SOUTH', 'DEGREE']]\n",
    "#Forming our input matrix.\n",
    "Y = data[['EXECUTIONS']]\n",
    "#Forming the output matrix.\n",
    "print(X_raw.shape)\n",
    "print(Y.shape)\n",
    "#Verifying shapes and dimensionality."
   ]
  },
  {
   "cell_type": "code",
   "execution_count": 5,
   "id": "cfaac95f-be78-4ac4-b36a-bd0531e25b04",
   "metadata": {},
   "outputs": [
    {
     "name": "stdout",
     "output_type": "stream",
     "text": [
      "(17, 7)\n",
      "(17, 1)\n"
     ]
    }
   ],
   "source": [
    "one = np.ones((X_raw.shape[0], 1))\n",
    "#Initialised identity column to be added to X matrix as a bias term.\n",
    "scale = StandardScaler()\n",
    "X_scaled = scale.fit_transform(X_raw)\n",
    "#Scaling the matrix to values between 0 and 1.\n",
    "X = np.hstack([one, X_scaled])\n",
    "#Adding the bias term.\n",
    "print(X.shape)\n",
    "print(Y.shape)\n",
    "#Verifying the shapes."
   ]
  },
  {
   "cell_type": "code",
   "execution_count": 6,
   "id": "c4b84212-7f25-46c3-ab60-226ff53ba911",
   "metadata": {},
   "outputs": [],
   "source": [
    "def grad(X, Y, Q):\n",
    "    Z = np.exp(X @ Q)\n",
    "    #We map the linear space to an exponential space, to be used for further operations.\n",
    "    return X.T @ (Y - Z)\n",
    "    #Returned the gradient"
   ]
  },
  {
   "cell_type": "code",
   "execution_count": 7,
   "id": "c5c4ec95-fc22-4ad1-9933-b1c1f8d4b59e",
   "metadata": {},
   "outputs": [],
   "source": [
    "Q = np.zeros((X.shape[1], 1))\n",
    "#Initialised the parameter matrix for prediction.\n",
    "iters = 10000\n",
    "alpha = 0.001\n",
    "#Arbitrarily set hyperparameters.\n",
    "i = 0\n",
    "#Iterator set at 0.\n",
    "log_likelihood = []\n",
    "#Array to store the variable part of log-likelihood function.\n",
    "while(i < iters):\n",
    "    #Start loop.\n",
    "    Q += alpha*grad(X, Y, Q)\n",
    "    #Basic updation gradient ascent.\n",
    "    nat_param = X @ Q\n",
    "    #Recording eta.\n",
    "    term_1 = Y.T @ nat_param\n",
    "    term_2 = np.sum(np.exp(nat_param), axis = 0)\n",
    "    #Recording the 2 terms needed to calculate the variable part of log_likelihood.\n",
    "    log_likelihood_maximiser = term_1 - term_2\n",
    "    log_likelihood.append(log_likelihood_maximiser)\n",
    "    #Store the value in the array for further graphical plotting.\n",
    "    i += 1\n",
    "    #Moving on to next iteration."
   ]
  },
  {
   "cell_type": "code",
   "execution_count": 14,
   "id": "49e3cc5f-6162-40cc-a490-4245b0be767a",
   "metadata": {},
   "outputs": [
    {
     "data": {
      "image/png": "[encoded data removed]",
      "text/plain": [
       "<Figure size 640x480 with 1 Axes>"
      ]
     },
     "metadata": {},
     "output_type": "display_data"
    },
    {
     "name": "stdout",
     "output_type": "stream",
     "text": [
      "    EXECUTIONS\n",
      "0         37.0\n",
      "1          9.0\n",
      "2          6.0\n",
      "3          4.0\n",
      "4          3.0\n",
      "5          2.0\n",
      "6          2.0\n",
      "7          2.0\n",
      "8          1.0\n",
      "9          1.0\n",
      "10         1.0\n",
      "11         1.0\n",
      "12         1.0\n",
      "13         1.0\n",
      "14         1.0\n",
      "15         1.0\n",
      "16         1.0\n",
      "    EXECUTIONS\n",
      "0    34.698315\n",
      "1     8.793069\n",
      "2     1.295353\n",
      "3     3.911250\n",
      "4     2.191863\n",
      "5     0.983676\n",
      "6     1.725276\n",
      "7     2.318469\n",
      "8     1.814337\n",
      "9     2.625437\n",
      "10    3.149755\n",
      "11    3.745592\n",
      "12    2.461598\n",
      "13    0.799408\n",
      "14    1.005415\n",
      "15    0.526588\n",
      "16    1.954601\n",
      "0.7291982760770681\n"
     ]
    }
   ],
   "source": [
    "iterations = range(len(log_likelihood))\n",
    "#Storing an iteration vector for plotting use.\n",
    "plt.scatter(iterations, log_likelihood, alpha=0.5)\n",
    "plt.grid(True)\n",
    "plt.tight_layout()\n",
    "plt.show()\n",
    "#Graph display.\n",
    "eta = X @ Q\n",
    "#Forming the canonical link.\n",
    "preds = np.exp(eta)\n",
    "#Using link to find expected value for each X_i.\n",
    "print(Y)\n",
    "print(mu_pred)\n",
    "mean_rel_err = np.mean(np.abs(Y - preds) / np.abs(Y))\n",
    "print(mean_rel_err)\n",
    "#Comparison of 2 values."
   ]
  },
  {
   "cell_type": "markdown",
   "id": "a722b5cb-d41c-4d3d-843e-e197d917c258",
   "metadata": {},
   "source": [
    "# Overview\n",
    "This is a standard implementation for GLM's using the \"cpunish\" dataset from statsmodels.api. Since our target value is no. of executions taken place, Y is distributed over a non-negative integer space. This means that we can assume that Y ~ Poisson($\\lambda$), as our design choice for the GLM.\n",
    "# Learnings, mistakes and doubts:\n",
    "1. Having derived the log-likelihood function with canonical parameters, I had a doubt regarding why exactly is our design choice such that we always go for $\\eta$ = $\\u$? Is there any other way to describe this? This made me come upon the concept of link functions, an integral part of GLM's, previously unknown to me.\n",
    "2. I tried applying the convexity test to a non-canonical link function that I had chosen, $g^{-1}(\\eta) = \\mu$ such that $\\eta = \\mu^{2}$. Upon further manipulation, we get $\\lambda = \\eta^{\\frac{1}{2}}$, where $\\lambda$ is the parameter for our Poisson distribution. Putting this in our log-likelihood function, the variable part becomes somewhat like this: $\\sum_{i = 1}^m Y^{i} \\ln(\\lambda) - \\lambda = \\sum_{i = 1}^m Y^{i} \\frac{1}{2}\\ln(\\eta) - \\eta^{\\frac{1}{2}} = \\sum_{i = 1}^m Y^{i} \\frac{1}{2}\\ln(X^{i}\\theta) - (X^{i}\\theta)^{\\frac{1}{2}}$. Using the convexity definition, we can prove that the function f($\\theta$) = $\\sum_{i = 1}^m Y^{i} \\frac{1}{2}\\ln(X^{i}\\theta) - (X^{i}\\theta)^{\\frac{1}{2}}$ is non-convex. Thus, without testing even, we can say that gradient ascent will not work here.\n",
    "3. Learned new pandas commands to see the headers and titles for a loaded dataset. This can be crucial in data interpretation.\n",
    "\n",
    "Thank you for sticking around :)"
   ]
  },
  {
   "cell_type": "code",
   "execution_count": null,
   "id": "a7460bd4-c002-42e1-b869-01e43293caa4",
   "metadata": {},
   "outputs": [],
   "source": []
  }
 ],
 "metadata": {
  "kernelspec": {
   "display_name": "Python 3 (ipykernel)",
   "language": "python",
   "name": "python3"
  },
  "language_info": {
   "codemirror_mode": {
    "name": "ipython",
    "version": 3
   },
   "file_extension": ".py",
   "mimetype": "text/x-python",
   "name": "python",
   "nbconvert_exporter": "python",
   "pygments_lexer": "ipython3",
   "version": "3.12.7"
  }
 },
 "nbformat": 4,
 "nbformat_minor": 5
}
