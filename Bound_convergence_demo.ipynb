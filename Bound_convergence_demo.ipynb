{
 "cells": [
  {
   "cell_type": "code",
   "execution_count": 93,
   "id": "e44ce1cf-621d-47f0-a887-2e65ad66c68b",
   "metadata": {},
   "outputs": [],
   "source": [
    "#Run all the cells in order to see how this algorithm affects hyperparameter tuning using the given algorithm.\n",
    "#I will be adding comments to this file as we proceed.\n",
    "import matplotlib.pyplot as plt\n",
    "import pandas as pd\n",
    "import numpy as np\n",
    "from sklearn.preprocessing import StandardScaler\n",
    "from sklearn.datasets import fetch_california_housing\n",
    "#Importing all the basic libraries."
   ]
  },
  {
   "cell_type": "code",
   "execution_count": 94,
   "id": "6ebb5377-bcc1-4d0a-ae39-7868cd1fc394",
   "metadata": {},
   "outputs": [],
   "source": [
    "data = fetch_california_housing()\n",
    "X_raw = data.data\n",
    "Y = data.target.reshape(-1, 1)\n",
    "#Converting the tabular data into matrix form.\n",
    "scaler = StandardScaler()\n",
    "X_scaled = scaler.fit_transform(X_raw)\n",
    "#Scaling the features of X.\n",
    "one = np.ones((X_scaled.shape[0], 1))\n",
    "X = np.hstack([one, X_scaled])\n",
    "#Adding the bias term. The X matrix is now ready for further operations."
   ]
  },
  {
   "cell_type": "code",
   "execution_count": 95,
   "id": "e4b2e315-00e1-4e9b-a77f-46ed3529c9c1",
   "metadata": {},
   "outputs": [],
   "source": [
    "def grad(X, Y, Q):\n",
    "    H = X @ Q\n",
    "    return (X.T @ (H - Y))/X.shape[0]\n",
    "#Defining the gradient.\n",
    "Q = np.zeros((X.shape[1], 1))\n",
    "#Initialised all parameters at zero."
   ]
  },
  {
   "cell_type": "code",
   "execution_count": 97,
   "id": "d0085642-446d-4ce6-a307-38856ed3e920",
   "metadata": {
    "scrolled": true
   },
   "outputs": [
    {
     "name": "stdout",
     "output_type": "stream",
     "text": [
      "[[ 0.          0.        ]\n",
      " [ 0.82963289  0.        ]\n",
      " [ 0.11875418  0.        ]\n",
      " [-0.26555258  0.        ]\n",
      " [ 0.3057175   0.        ]\n",
      " [ 0.          0.        ]\n",
      " [-0.03932677  0.        ]\n",
      " [ 0.          0.        ]\n",
      " [ 0.          0.        ]]\n",
      "[[ 2.06855817]\n",
      " [ 0.82961931]\n",
      " [ 0.11875165]\n",
      " [-0.26552688]\n",
      " [ 0.30569623]\n",
      " [-0.004503  ]\n",
      " [-0.03932627]\n",
      " [-0.89988565]\n",
      " [-0.870541  ]]\n",
      "[[ 2.06855817]\n",
      " [ 0.8296193 ]\n",
      " [ 0.11875165]\n",
      " [-0.26552688]\n",
      " [ 0.30569623]\n",
      " [-0.004503  ]\n",
      " [-0.03932627]\n",
      " [-0.89988565]\n",
      " [-0.870541  ]]\n"
     ]
    }
   ],
   "source": [
    "#Test 1:\n",
    "alpha = 0.01\n",
    "iters = 20000\n",
    "#Arbitrary values have been set.\n",
    "i = 0\n",
    "#Standard iterator set at 0.\n",
    "Q_ = np.zeros((X.shape[1], 1))\n",
    "Q__ = np.zeros((X.shape[1], 1))\n",
    "#Q_ is analogous theta_(t), Q__ is analogous to theta_(t - 1) and Q is analogous to theta_(t + 1).\n",
    "bounds = np.zeros((X.shape[1], 2))\n",
    "#This matrix stores the upper and lower bounds for all parameters.\n",
    "found = np.zeros((X.shape[1], 2), bool)\n",
    "#This matrix will be used in the while loop to check if the sign change is first or second. It is integral to the algorithm.\n",
    "while(i < iters):\n",
    "    Q__ = Q_.copy()\n",
    "    Q_ = Q.copy()\n",
    "    Q -= alpha*grad(X, Y, Q)\n",
    "    #Update as we go on.\n",
    "    del1 = (Q - Q_).ravel()\n",
    "    #Getting values of current slope and converting into a 1-D array for further operations.\n",
    "    del2 = (Q_ - Q__).ravel()\n",
    "    #Getting values of previous slope and converting into a 1-D array for further operations.\n",
    "    sign_curr = np.sign(del1)\n",
    "    sign_prev = np.sign(del2)\n",
    "    #Converting the two slope arrays into their respective sign vectors for each parameter.\n",
    "    flips = (sign_curr * sign_prev) < 0\n",
    "    #If sign change exists, record the index of sign change. (sign_curr * sign_prev < 0 implies that the two entries of the two respective arrays have opposite signs.)\n",
    "    Q_copy = Q_.ravel()\n",
    "    #Typecast Q_ into a 1-D array for further operations without changing value at original location.\n",
    "    first_flip = flips & (~found[:,0])\n",
    "    #Perform bitwise & operation for all entries of 'flips' and for the inverse of all entries in the first column of 'found'. Gives us first flips if there are any.\n",
    "    second_flip = flips & found[:,0] & (~found[:,1])\n",
    "    #Perform bitwise & operations for all entries of 'flips', for first column of 'found' and for inverse of second column of 'found'. Gives us second flips if there are any.\n",
    "    #Right now, these columns will be treated as 1-D arrays, and operations will take place using C loops, hence super fast.\n",
    "    bounds[first_flip,  0] = Q_copy[first_flip]\n",
    "    bounds[second_flip, 1] = Q_copy[second_flip]\n",
    "    #Recording the bounds.\n",
    "    found[first_flip,  0] = True\n",
    "    found[second_flip, 1] = True\n",
    "    #Changes the respective values in the 'found' matrix to true, indicating bounds have been found for respective parameters.\n",
    "    i += 1\n",
    "    #iterator goes on.\n",
    "\n",
    "print(bounds)\n",
    "#Print the matrix for bounds.\n",
    "print(Q)\n",
    "#Print the matrix for Theta.\n",
    "theta = np.linalg.inv(X.T @ X) @ X.T @ Y\n",
    "k = 0\n",
    "print(theta)\n",
    "#Cross-checking values with analytical solution."
   ]
  },
  {
   "cell_type": "code",
   "execution_count": null,
   "id": "f0cd7ba0-a320-4f84-8cdb-eb4da26a53f3",
   "metadata": {},
   "outputs": [],
   "source": []
  }
 ],
 "metadata": {
  "kernelspec": {
   "display_name": "Python 3 (ipykernel)",
   "language": "python",
   "name": "python3"
  },
  "language_info": {
   "codemirror_mode": {
    "name": "ipython",
    "version": 3
   },
   "file_extension": ".py",
   "mimetype": "text/x-python",
   "name": "python",
   "nbconvert_exporter": "python",
   "pygments_lexer": "ipython3",
   "version": "3.12.7"
  }
 },
 "nbformat": 4,
 "nbformat_minor": 5
}
